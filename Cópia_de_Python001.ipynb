{
  "nbformat": 4,
  "nbformat_minor": 0,
  "metadata": {
    "colab": {
      "provenance": [],
      "include_colab_link": true
    },
    "kernelspec": {
      "name": "python3",
      "display_name": "Python 3"
    },
    "language_info": {
      "name": "python"
    }
  },
  "cells": [
    {
      "cell_type": "markdown",
      "metadata": {
        "id": "view-in-github",
        "colab_type": "text"
      },
      "source": [
        "<a href=\"https://colab.research.google.com/github/KauanMSilva/ArgumentosJv/blob/main/C%C3%B3pia_de_Python001.ipynb\" target=\"_parent\"><img src=\"https://colab.research.google.com/assets/colab-badge.svg\" alt=\"Open In Colab\"/></a>"
      ]
    },
    {
      "cell_type": "markdown",
      "source": [
        "**A função print() em Python é usada para exibir informações na tela.**"
      ],
      "metadata": {
        "id": "Tkp67oM98afq"
      }
    },
    {
      "cell_type": "code",
      "execution_count": null,
      "metadata": {
        "id": "ujsVSRs8zbDX"
      },
      "outputs": [],
      "source": [
        "print('Olá, mundo!')"
      ]
    },
    {
      "cell_type": "code",
      "source": [
        "mensagem = 'Olá, mundo!'\n",
        "print(mensagem)"
      ],
      "metadata": {
        "id": "ZKrOyvuLzqkF"
      },
      "execution_count": null,
      "outputs": []
    },
    {
      "cell_type": "code",
      "source": [
        "nome = 'Miguel'\n",
        "idade = 17\n",
        "print('Meu nome: ', nome,', minha idade:', idade)\n",
        "# Saída concatenando texto e variável"
      ],
      "metadata": {
        "id": "_xHLUAcAz9lE"
      },
      "execution_count": null,
      "outputs": []
    },
    {
      "cell_type": "code",
      "source": [
        "nome = 'Miguel'\n",
        "idade = 17\n",
        "print(f'Meu nome: {nome}, minha idade: {idade}')\n",
        "# Formatando a saída com f-string"
      ],
      "metadata": {
        "id": "1U-Zd6IU8EbK"
      },
      "execution_count": null,
      "outputs": []
    },
    {
      "cell_type": "markdown",
      "source": [
        "**Operadores aritméticos**\n"
      ],
      "metadata": {
        "id": "aclC_i2T8jSq"
      }
    },
    {
      "cell_type": "code",
      "source": [
        "numero1 = 5\n",
        "numero2 = 7\n",
        "resultado = numero1 + numero2\n",
        "print(resultado)\n",
        "# Soma"
      ],
      "metadata": {
        "id": "eMI9e87J1JZO"
      },
      "execution_count": null,
      "outputs": []
    },
    {
      "cell_type": "code",
      "source": [
        "numero1 = 5\n",
        "numero2 = 7\n",
        "resultado = numero1 - numero2\n",
        "print(resultado)\n",
        "# Subtração"
      ],
      "metadata": {
        "id": "FYIFGQRE2xTg"
      },
      "execution_count": null,
      "outputs": []
    },
    {
      "cell_type": "code",
      "source": [
        "numero1 = 5\n",
        "numero2 = 7\n",
        "resultado = numero1 * numero2\n",
        "print(resultado)\n",
        "# Multiplicação"
      ],
      "metadata": {
        "id": "t_W7wjFa27ye"
      },
      "execution_count": null,
      "outputs": []
    },
    {
      "cell_type": "code",
      "source": [
        "numero1 = 5\n",
        "numero2 = 2\n",
        "resultado = numero1 / numero2\n",
        "print(resultado)\n",
        "# Retorna o resultado da divisão"
      ],
      "metadata": {
        "id": "Is963CbR3CL-"
      },
      "execution_count": null,
      "outputs": []
    },
    {
      "cell_type": "code",
      "source": [
        "numero1 = 5\n",
        "numero2 = 2\n",
        "resultado = numero1 // numero2\n",
        "print(resultado)\n",
        "# Divisão inteira: Retorna a parte inteira do resultado"
      ],
      "metadata": {
        "id": "e_fz5TXZ3GPe"
      },
      "execution_count": null,
      "outputs": []
    },
    {
      "cell_type": "code",
      "source": [
        "numero1 = 5\n",
        "numero2 = 2\n",
        "resultado = numero1 % numero2\n",
        "print(resultado)\n",
        "# Módulo: Retorna o resto da divisão"
      ],
      "metadata": {
        "id": "P7ooRczv3JqN"
      },
      "execution_count": null,
      "outputs": []
    },
    {
      "cell_type": "code",
      "source": [
        "numero1 = 5\n",
        "numero2 = 2\n",
        "resultado = numero1 ** numero2\n",
        "print(resultado)\n",
        "# Exponenciação: eleva um número a potência do outro"
      ],
      "metadata": {
        "id": "x5TX8noq6PcU"
      },
      "execution_count": null,
      "outputs": []
    }
  ]
}